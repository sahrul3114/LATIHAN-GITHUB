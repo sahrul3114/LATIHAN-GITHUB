{
  "nbformat": 4,
  "nbformat_minor": 0,
  "metadata": {
    "colab": {
      "provenance": [],
      "include_colab_link": true
    },
    "kernelspec": {
      "name": "python3",
      "display_name": "Python 3"
    },
    "language_info": {
      "name": "python"
    }
  },
  "cells": [
    {
      "cell_type": "markdown",
      "metadata": {
        "id": "view-in-github",
        "colab_type": "text"
      },
      "source": [
        "<a href=\"https://colab.research.google.com/github/sahrul3114/LATIHAN-GITHUB/blob/main/latihan_github.ipynb\" target=\"_parent\"><img src=\"https://colab.research.google.com/assets/colab-badge.svg\" alt=\"Open In Colab\"/></a>"
      ]
    },
    {
      "cell_type": "code",
      "execution_count": 1,
      "metadata": {
        "id": "Wo7csHnNNpmk",
        "colab": {
          "base_uri": "https://localhost:8080/"
        },
        "outputId": "afcd780a-ac1a-419f-dda1-0d1d3111bb77"
      },
      "outputs": [
        {
          "output_type": "stream",
          "name": "stdout",
          "text": [
            "SYAHRUL AKBAR RAMDHANI\n"
          ]
        }
      ],
      "source": [
        "p = \"SYAHRUL AKBAR RAMDHANI\"\n",
        "print(p)"
      ]
    },
    {
      "cell_type": "code",
      "source": [
        "LM = \"Nur Fadila Firdaus,\"\n",
        "MM = \"Rahma Safira\"\n",
        "LM + MM"
      ],
      "metadata": {
        "colab": {
          "base_uri": "https://localhost:8080/",
          "height": 35
        },
        "id": "JHSJfZQkO9T9",
        "outputId": "a3dcbfa3-d9c4-4b4c-e48e-ce6b0ea5e176"
      },
      "execution_count": 4,
      "outputs": [
        {
          "output_type": "execute_result",
          "data": {
            "text/plain": [
              "'Nur Fadila Firdaus,Rahma Safira'"
            ],
            "application/vnd.google.colaboratory.intrinsic+json": {
              "type": "string"
            }
          },
          "metadata": {},
          "execution_count": 4
        }
      ]
    }
  ]
}