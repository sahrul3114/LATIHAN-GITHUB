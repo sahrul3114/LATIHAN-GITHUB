{
  "nbformat": 4,
  "nbformat_minor": 0,
  "metadata": {
    "colab": {
      "provenance": [],
      "authorship_tag": "ABX9TyOnumuyJzh4SmVyEfAhR6hr",
      "include_colab_link": true
    },
    "kernelspec": {
      "name": "python3",
      "display_name": "Python 3"
    },
    "language_info": {
      "name": "python"
    }
  },
  "cells": [
    {
      "cell_type": "markdown",
      "metadata": {
        "id": "view-in-github",
        "colab_type": "text"
      },
      "source": [
        "<a href=\"https://colab.research.google.com/github/sahrul3114/LATIHAN-GITHUB/blob/customer-sahrul/latihan_github.ipynb\" target=\"_parent\"><img src=\"https://colab.research.google.com/assets/colab-badge.svg\" alt=\"Open In Colab\"/></a>"
      ]
    },
    {
      "cell_type": "code",
      "execution_count": 1,
      "metadata": {
        "id": "Wo7csHnNNpmk",
        "colab": {
          "base_uri": "https://localhost:8080/"
        },
        "outputId": "4fb0328c-8775-45c8-9bdc-7c65b1607992"
      },
      "outputs": [
        {
          "output_type": "stream",
          "name": "stdout",
          "text": [
            "syahrul\n"
          ]
        }
      ],
      "source": [
        "print(\"syahrul\")"
      ]
    }
  ]
}