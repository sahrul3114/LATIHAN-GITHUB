{
  "nbformat": 4,
  "nbformat_minor": 0,
  "metadata": {
    "colab": {
      "provenance": [],
      "include_colab_link": true
    },
    "kernelspec": {
      "name": "python3",
      "display_name": "Python 3"
    },
    "language_info": {
      "name": "python"
    }
  },
  "cells": [
    {
      "cell_type": "markdown",
      "metadata": {
        "id": "view-in-github",
        "colab_type": "text"
      },
      "source": [
        "<a href=\"https://colab.research.google.com/github/sahrul3114/LATIHAN-GITHUB/blob/eda/latihan_github.ipynb\" target=\"_parent\"><img src=\"https://colab.research.google.com/assets/colab-badge.svg\" alt=\"Open In Colab\"/></a>"
      ]
    },
    {
      "cell_type": "code",
      "execution_count": 5,
      "metadata": {
        "id": "Wo7csHnNNpmk",
        "colab": {
          "base_uri": "https://localhost:8080/"
        },
        "outputId": "1dcc7789-34c9-4b0c-db92-13ba54c1e2c0"
      },
      "outputs": [],
      "source": [
        "# PREPROCESSING (NISA)"
      ]
    },
    {
      "cell_type": "code",
      "source": [
        "LM = \"Nur Fadila Firdaus,\"\n",
        "MM = \"Rahma Safira\"\n",
        "LM + MM"
      ],
      "metadata": {
        "colab": {
          "base_uri": "https://localhost:8080/",
          "height": 35
        },
        "id": "JHSJfZQkO9T9",
        "outputId": "a3dcbfa3-d9c4-4b4c-e48e-ce6b0ea5e176"
      },
      "execution_count": null,
      "outputs": [
        {
          "output_type": "execute_result",
          "data": {
            "text/plain": [
              "'Nur Fadila Firdaus,Rahma Safira'"
            ],
            "application/vnd.google.colaboratory.intrinsic+json": {
              "type": "string"
            }
          },
          "metadata": {},
          "execution_count": 4
        }
      ]
      "execution_count": null,
      "metadata": {
        "id": "6SIAXZaVPP9_"
      },
      "outputs": [],
      "source": []
    }
  ]
}